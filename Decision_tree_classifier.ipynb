{
 "cells": [
  {
   "cell_type": "markdown",
   "metadata": {},
   "source": [
    "# Shilpi Dubey\n",
    "Data Science and Business Analytics intern @GRIP- The Sparks Foundation"
   ]
  },
  {
   "cell_type": "markdown",
   "metadata": {},
   "source": [
    "### TASK 6\n",
    "Create the Decision Tree classifier and visualize it graphically."
   ]
  },
  {
   "cell_type": "markdown",
   "metadata": {},
   "source": [
    "### Objective:\n",
    "If we feed any new data to this classifier, it would be able to\n",
    "predict the right class accordingly."
   ]
  },
  {
   "cell_type": "markdown",
   "metadata": {},
   "source": [
    "#### Importing necessary libraries"
   ]
  },
  {
   "cell_type": "code",
   "execution_count": 37,
   "metadata": {},
   "outputs": [],
   "source": [
    "library(readr)\n",
    "library(rpart)\n",
    "library(caret)\n",
    "library(rpart.plot)\n",
    "library(ggcorrplot)\n",
    "library(repr)"
   ]
  },
  {
   "cell_type": "markdown",
   "metadata": {},
   "source": [
    "#### Importing the dataset"
   ]
  },
  {
   "cell_type": "code",
   "execution_count": 39,
   "metadata": {},
   "outputs": [
    {
     "name": "stderr",
     "output_type": "stream",
     "text": [
      "\n",
      "-- Column specification --------------------------------------------------------\n",
      "cols(\n",
      "  Id = col_double(),\n",
      "  SepalLengthCm = col_double(),\n",
      "  SepalWidthCm = col_double(),\n",
      "  PetalLengthCm = col_double(),\n",
      "  PetalWidthCm = col_double(),\n",
      "  Species = col_character()\n",
      ")\n",
      "\n"
     ]
    },
    {
     "data": {
      "text/html": [
       "<table>\n",
       "<thead><tr><th scope=col>Id</th><th scope=col>SepalLengthCm</th><th scope=col>SepalWidthCm</th><th scope=col>PetalLengthCm</th><th scope=col>PetalWidthCm</th><th scope=col>Species</th></tr></thead>\n",
       "<tbody>\n",
       "\t<tr><td>1          </td><td>5.1        </td><td>3.5        </td><td>1.4        </td><td>0.2        </td><td>Iris-setosa</td></tr>\n",
       "\t<tr><td>2          </td><td>4.9        </td><td>3.0        </td><td>1.4        </td><td>0.2        </td><td>Iris-setosa</td></tr>\n",
       "\t<tr><td>3          </td><td>4.7        </td><td>3.2        </td><td>1.3        </td><td>0.2        </td><td>Iris-setosa</td></tr>\n",
       "\t<tr><td>4          </td><td>4.6        </td><td>3.1        </td><td>1.5        </td><td>0.2        </td><td>Iris-setosa</td></tr>\n",
       "\t<tr><td>5          </td><td>5.0        </td><td>3.6        </td><td>1.4        </td><td>0.2        </td><td>Iris-setosa</td></tr>\n",
       "\t<tr><td>6          </td><td>5.4        </td><td>3.9        </td><td>1.7        </td><td>0.4        </td><td>Iris-setosa</td></tr>\n",
       "</tbody>\n",
       "</table>\n"
      ],
      "text/latex": [
       "\\begin{tabular}{r|llllll}\n",
       " Id & SepalLengthCm & SepalWidthCm & PetalLengthCm & PetalWidthCm & Species\\\\\n",
       "\\hline\n",
       "\t 1           & 5.1         & 3.5         & 1.4         & 0.2         & Iris-setosa\\\\\n",
       "\t 2           & 4.9         & 3.0         & 1.4         & 0.2         & Iris-setosa\\\\\n",
       "\t 3           & 4.7         & 3.2         & 1.3         & 0.2         & Iris-setosa\\\\\n",
       "\t 4           & 4.6         & 3.1         & 1.5         & 0.2         & Iris-setosa\\\\\n",
       "\t 5           & 5.0         & 3.6         & 1.4         & 0.2         & Iris-setosa\\\\\n",
       "\t 6           & 5.4         & 3.9         & 1.7         & 0.4         & Iris-setosa\\\\\n",
       "\\end{tabular}\n"
      ],
      "text/markdown": [
       "\n",
       "| Id | SepalLengthCm | SepalWidthCm | PetalLengthCm | PetalWidthCm | Species |\n",
       "|---|---|---|---|---|---|\n",
       "| 1           | 5.1         | 3.5         | 1.4         | 0.2         | Iris-setosa |\n",
       "| 2           | 4.9         | 3.0         | 1.4         | 0.2         | Iris-setosa |\n",
       "| 3           | 4.7         | 3.2         | 1.3         | 0.2         | Iris-setosa |\n",
       "| 4           | 4.6         | 3.1         | 1.5         | 0.2         | Iris-setosa |\n",
       "| 5           | 5.0         | 3.6         | 1.4         | 0.2         | Iris-setosa |\n",
       "| 6           | 5.4         | 3.9         | 1.7         | 0.4         | Iris-setosa |\n",
       "\n"
      ],
      "text/plain": [
       "  Id SepalLengthCm SepalWidthCm PetalLengthCm PetalWidthCm Species    \n",
       "1 1  5.1           3.5          1.4           0.2          Iris-setosa\n",
       "2 2  4.9           3.0          1.4           0.2          Iris-setosa\n",
       "3 3  4.7           3.2          1.3           0.2          Iris-setosa\n",
       "4 4  4.6           3.1          1.5           0.2          Iris-setosa\n",
       "5 5  5.0           3.6          1.4           0.2          Iris-setosa\n",
       "6 6  5.4           3.9          1.7           0.4          Iris-setosa"
      ]
     },
     "metadata": {},
     "output_type": "display_data"
    }
   ],
   "source": [
    "Iris <- read_csv(\"D:/Learning R/Iris.csv\")\n",
    "head(Iris) # checking first few rows of dataset"
   ]
  },
  {
   "cell_type": "markdown",
   "metadata": {},
   "source": [
    "#### Correlation plot of the features "
   ]
  },
  {
   "cell_type": "code",
   "execution_count": 11,
   "metadata": {},
   "outputs": [
    {
     "data": {
      "image/png": "[encoded data removed]",
      "text/plain": [
       "plot without title"
      ]
     },
     "metadata": {},
     "output_type": "display_data"
    }
   ],
   "source": [
    "options(repr.plot.width = 6, repr.plot.height = 4) \n",
    "ggcorrplot(corr = cor(Iris[,2:5]), lab = TRUE)"
   ]
  },
  {
   "cell_type": "markdown",
   "metadata": {},
   "source": [
    "#### Splitting the dataset"
   ]
  },
  {
   "cell_type": "code",
   "execution_count": 14,
   "metadata": {},
   "outputs": [
    {
     "name": "stderr",
     "output_type": "stream",
     "text": [
      "Warning message:\n",
      "\"The `i` argument of ``[`()` can't be a matrix as of tibble 3.0.0.\n",
      "Convert to a vector.\n",
      "This warning is displayed once every 8 hours.\n",
      "Call `lifecycle::last_warnings()` to see where this warning was generated.\""
     ]
    }
   ],
   "source": [
    "set.seed(444)\n",
    "trainingIndex <- createDataPartition(Iris$Species, p=0.8, list = FALSE) # splitting the data in 80/20 set\n",
    "trainingset <- Iris[trainingIndex,]\n",
    "testset <- Iris[-trainingIndex,]"
   ]
  },
  {
   "cell_type": "markdown",
   "metadata": {},
   "source": [
    "#### Creating decision tree classifier"
   ]
  },
  {
   "cell_type": "code",
   "execution_count": 15,
   "metadata": {},
   "outputs": [
    {
     "name": "stdout",
     "output_type": "stream",
     "text": [
      "[1] \"Decision tree Classifier Created\"\n"
     ]
    }
   ],
   "source": [
    "decision_tree <- rpart(data = trainingset, formula = Species ~ SepalLengthCm + SepalWidthCm + PetalLengthCm + PetalWidthCm, \n",
    "                       method = \"class\",\n",
    "                       control = rpart.control(minsplit = 3, cp=0, maxdepth = 30))\n",
    "print(\"Decision tree Classifier Created\")"
   ]
  },
  {
   "cell_type": "code",
   "execution_count": 16,
   "metadata": {},
   "outputs": [
    {
     "name": "stdout",
     "output_type": "stream",
     "text": [
      "Call:\n",
      "rpart(formula = Species ~ SepalLengthCm + SepalWidthCm + PetalLengthCm + \n",
      "    PetalWidthCm, data = trainingset, method = \"class\", control = rpart.control(minsplit = 3, \n",
      "    cp = 0, maxdepth = 30))\n",
      "  n= 120 \n",
      "\n",
      "      CP nsplit rel error xerror       xstd\n",
      "1 0.5000      0    1.0000 1.2750 0.04889402\n",
      "2 0.4250      1    0.5000 0.8125 0.06822718\n",
      "3 0.0250      2    0.0750 0.1250 0.03784563\n",
      "4 0.0125      3    0.0500 0.1250 0.03784563\n",
      "5 0.0000      6    0.0125 0.1125 0.03606635\n",
      "\n",
      "Variable importance\n",
      " PetalWidthCm PetalLengthCm SepalLengthCm  SepalWidthCm \n",
      "           34            31            21            14 \n",
      "\n",
      "Node number 1: 120 observations,    complexity param=0.5\n",
      "  predicted class=Iris-setosa      expected loss=0.6666667  P(node) =1\n",
      "    class counts:    40    40    40\n",
      "   probabilities: 0.333 0.333 0.333 \n",
      "  left son=2 (40 obs) right son=3 (80 obs)\n",
      "  Primary splits:\n",
      "      PetalLengthCm < 2.45 to the left,  improve=40.00000, (0 missing)\n",
      "      PetalWidthCm  < 0.8  to the left,  improve=40.00000, (0 missing)\n",
      "      SepalLengthCm < 5.45 to the left,  improve=25.58814, (0 missing)\n",
      "      SepalWidthCm  < 3.35 to the right, improve=15.12422, (0 missing)\n",
      "  Surrogate splits:\n",
      "      PetalWidthCm  < 0.8  to the left,  agree=1.000, adj=1.000, (0 split)\n",
      "      SepalLengthCm < 5.45 to the left,  agree=0.908, adj=0.725, (0 split)\n",
      "      SepalWidthCm  < 3.35 to the right, agree=0.833, adj=0.500, (0 split)\n",
      "\n",
      "Node number 2: 40 observations\n",
      "  predicted class=Iris-setosa      expected loss=0  P(node) =0.3333333\n",
      "    class counts:    40     0     0\n",
      "   probabilities: 1.000 0.000 0.000 \n",
      "\n",
      "Node number 3: 80 observations,    complexity param=0.425\n",
      "  predicted class=Iris-versicolor  expected loss=0.5  P(node) =0.6666667\n",
      "    class counts:     0    40    40\n",
      "   probabilities: 0.000 0.500 0.500 \n",
      "  left son=6 (44 obs) right son=7 (36 obs)\n",
      "  Primary splits:\n",
      "      PetalWidthCm  < 1.75 to the left,  improve=29.191920, (0 missing)\n",
      "      PetalLengthCm < 4.85 to the left,  improve=28.972430, (0 missing)\n",
      "      SepalLengthCm < 6.15 to the left,  improve= 8.120301, (0 missing)\n",
      "      SepalWidthCm  < 2.45 to the left,  improve= 3.067293, (0 missing)\n",
      "  Surrogate splits:\n",
      "      PetalLengthCm < 4.75 to the left,  agree=0.888, adj=0.750, (0 split)\n",
      "      SepalLengthCm < 6.15 to the left,  agree=0.725, adj=0.389, (0 split)\n",
      "      SepalWidthCm  < 2.95 to the left,  agree=0.675, adj=0.278, (0 split)\n",
      "\n",
      "Node number 6: 44 observations,    complexity param=0.025\n",
      "  predicted class=Iris-versicolor  expected loss=0.1136364  P(node) =0.3666667\n",
      "    class counts:     0    39     5\n",
      "   probabilities: 0.000 0.886 0.114 \n",
      "  left son=12 (38 obs) right son=13 (6 obs)\n",
      "  Primary splits:\n",
      "      PetalLengthCm < 4.95 to the left,  improve=4.2496010, (0 missing)\n",
      "      SepalLengthCm < 4.95 to the right, improve=1.6078220, (0 missing)\n",
      "      PetalWidthCm  < 1.35 to the left,  improve=0.9469697, (0 missing)\n",
      "      SepalWidthCm  < 2.65 to the right, improve=0.2187562, (0 missing)\n",
      "  Surrogate splits:\n",
      "      PetalWidthCm < 1.55 to the left,  agree=0.886, adj=0.167, (0 split)\n",
      "\n",
      "Node number 7: 36 observations\n",
      "  predicted class=Iris-virginica   expected loss=0.02777778  P(node) =0.3\n",
      "    class counts:     0     1    35\n",
      "   probabilities: 0.000 0.028 0.972 \n",
      "\n",
      "Node number 12: 38 observations,    complexity param=0.0125\n",
      "  predicted class=Iris-versicolor  expected loss=0.02631579  P(node) =0.3166667\n",
      "    class counts:     0    37     1\n",
      "   probabilities: 0.000 0.974 0.026 \n",
      "  left son=24 (37 obs) right son=25 (1 obs)\n",
      "  Primary splits:\n",
      "      SepalLengthCm < 4.95 to the right, improve=1.94736800, (0 missing)\n",
      "      PetalWidthCm  < 1.65 to the left,  improve=1.94736800, (0 missing)\n",
      "      SepalWidthCm  < 2.55 to the right, improve=0.10121460, (0 missing)\n",
      "      PetalLengthCm < 4.45 to the left,  improve=0.05847953, (0 missing)\n",
      "\n",
      "Node number 13: 6 observations,    complexity param=0.0125\n",
      "  predicted class=Iris-virginica   expected loss=0.3333333  P(node) =0.05\n",
      "    class counts:     0     2     4\n",
      "   probabilities: 0.000 0.333 0.667 \n",
      "  left son=26 (3 obs) right son=27 (3 obs)\n",
      "  Primary splits:\n",
      "      PetalWidthCm  < 1.55 to the right, improve=1.3333330, (0 missing)\n",
      "      SepalWidthCm  < 2.65 to the right, improve=0.6666667, (0 missing)\n",
      "      PetalLengthCm < 5.35 to the left,  improve=0.6666667, (0 missing)\n",
      "      SepalLengthCm < 6.95 to the left,  improve=0.2666667, (0 missing)\n",
      "  Surrogate splits:\n",
      "      SepalLengthCm < 6.5  to the right, agree=0.833, adj=0.667, (0 split)\n",
      "      SepalWidthCm  < 2.65 to the right, agree=0.833, adj=0.667, (0 split)\n",
      "\n",
      "Node number 24: 37 observations\n",
      "  predicted class=Iris-versicolor  expected loss=0  P(node) =0.3083333\n",
      "    class counts:     0    37     0\n",
      "   probabilities: 0.000 1.000 0.000 \n",
      "\n",
      "Node number 25: 1 observations\n",
      "  predicted class=Iris-virginica   expected loss=0  P(node) =0.008333333\n",
      "    class counts:     0     0     1\n",
      "   probabilities: 0.000 0.000 1.000 \n",
      "\n",
      "Node number 26: 3 observations,    complexity param=0.0125\n",
      "  predicted class=Iris-versicolor  expected loss=0.3333333  P(node) =0.025\n",
      "    class counts:     0     2     1\n",
      "   probabilities: 0.000 0.667 0.333 \n",
      "  left son=52 (2 obs) right son=53 (1 obs)\n",
      "  Primary splits:\n",
      "      SepalLengthCm < 6.95 to the left,  improve=1.3333330, (0 missing)\n",
      "      PetalLengthCm < 5.45 to the left,  improve=1.3333330, (0 missing)\n",
      "      SepalWidthCm  < 2.85 to the left,  improve=0.3333333, (0 missing)\n",
      "      PetalWidthCm  < 1.65 to the right, improve=0.3333333, (0 missing)\n",
      "\n",
      "Node number 27: 3 observations\n",
      "  predicted class=Iris-virginica   expected loss=0  P(node) =0.025\n",
      "    class counts:     0     0     3\n",
      "   probabilities: 0.000 0.000 1.000 \n",
      "\n",
      "Node number 52: 2 observations\n",
      "  predicted class=Iris-versicolor  expected loss=0  P(node) =0.01666667\n",
      "    class counts:     0     2     0\n",
      "   probabilities: 0.000 1.000 0.000 \n",
      "\n",
      "Node number 53: 1 observations\n",
      "  predicted class=Iris-virginica   expected loss=0  P(node) =0.008333333\n",
      "    class counts:     0     0     1\n",
      "   probabilities: 0.000 0.000 1.000 \n",
      "\n"
     ]
    }
   ],
   "source": [
    "summary(decision_tree)"
   ]
  },
  {
   "cell_type": "markdown",
   "metadata": {},
   "source": [
    "#### Predicting on testing data"
   ]
  },
  {
   "cell_type": "code",
   "execution_count": 27,
   "metadata": {},
   "outputs": [],
   "source": [
    " prediction <- predict(decision_tree, testset, type = \"class\")"
   ]
  },
  {
   "cell_type": "code",
   "execution_count": 35,
   "metadata": {},
   "outputs": [
    {
     "data": {
      "text/plain": [
       "                 Predicted_class\n",
       "Actual_class      Iris-setosa Iris-versicolor Iris-virginica\n",
       "  Iris-setosa              10               0              0\n",
       "  Iris-versicolor           0               9              1\n",
       "  Iris-virginica            0               0             10"
      ]
     },
     "metadata": {},
     "output_type": "display_data"
    }
   ],
   "source": [
    "confMat <- table(Actual_class = testset$Species, Predicted_class = prediction)\n",
    "confMat"
   ]
  },
  {
   "cell_type": "code",
   "execution_count": 36,
   "metadata": {},
   "outputs": [
    {
     "data": {
      "text/html": [
       "0.966666666666667"
      ],
      "text/latex": [
       "0.966666666666667"
      ],
      "text/markdown": [
       "0.966666666666667"
      ],
      "text/plain": [
       "[1] 0.9666667"
      ]
     },
     "metadata": {},
     "output_type": "display_data"
    }
   ],
   "source": [
    "accuracy <- sum(diag(confMat))/sum(confMat)\n",
    "accuracy"
   ]
  },
  {
   "cell_type": "raw",
   "metadata": {},
   "source": [
    "This shows that the predicted values are 96% correct."
   ]
  },
  {
   "cell_type": "markdown",
   "metadata": {},
   "source": [
    "#### Visualizing the decision tree"
   ]
  },
  {
   "cell_type": "code",
   "execution_count": 18,
   "metadata": {},
   "outputs": [
    {
     "data": {
      "image/png": "[encoded data removed]",
      "text/plain": [
       "plot without title"
      ]
     },
     "metadata": {},
     "output_type": "display_data"
    }
   ],
   "source": [
    "options(repr.plot.width = 6, repr.plot.height = 6) \n",
    "rpart.plot(decision_tree, type = 4, extra = 102)"
   ]
  },
  {
   "cell_type": "raw",
   "metadata": {},
   "source": [
    "This is the decision tree which when fed with new data, will be able to predict class accordingly."
   ]
  },
  {
   "cell_type": "markdown",
   "metadata": {},
   "source": [
    "### THANKYOU!"
   ]
  }
 ],
 "metadata": {
  "kernelspec": {
   "display_name": "R",
   "language": "R",
   "name": "ir"
  },
  "language_info": {
   "codemirror_mode": "r",
   "file_extension": ".r",
   "mimetype": "text/x-r-source",
   "name": "R",
   "pygments_lexer": "r",
   "version": "3.6.1"
  }
 },
 "nbformat": 4,
 "nbformat_minor": 4
}
